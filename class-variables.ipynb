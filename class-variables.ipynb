{
 "cells": [
  {
   "cell_type": "markdown",
   "source": [
    "# Class Variables"
   ],
   "metadata": {
    "collapsed": false
   }
  },
  {
   "cell_type": "code",
   "execution_count": 2,
   "outputs": [],
   "source": [
    "class Vehicle:\n",
    "\n",
    "    # class variable share across methods\n",
    "    insurance_percentage = 0.02\n",
    "\n",
    "    # this is like a constructor if you are from other languages\n",
    "    # self is like this object or self reference to the class\n",
    "    def __init__(self, type: str, make: str, model: str, power: str, fuel_type: str, price: int):\n",
    "        # Instance Variables\n",
    "        self.type = type\n",
    "        self.make = make\n",
    "        self.model = model\n",
    "        self.power = power\n",
    "        self.fuel_type = fuel_type\n",
    "        self.price = price\n",
    "\n",
    "    # instance method\n",
    "    def display_details(self):\n",
    "        return {'Type': self.type, 'Make': self.make, 'Model':self.model, 'Power': self.power, 'FuelType': self.fuel_type}\n",
    "\n",
    "    def display_onroad_price(self):\n",
    "        return self.price + self.price * self.insurance_percentage"
   ],
   "metadata": {
    "collapsed": false
   }
  },
  {
   "cell_type": "code",
   "execution_count": 7,
   "outputs": [],
   "source": [
    "v1 = Vehicle('Car', 'Audi', 'A6', '242bhp', 'Petrol', 6300000)\n",
    "v2 = Vehicle('Car', 'BMW', 'M6', '560bhp', 'Petrol', 7200000)"
   ],
   "metadata": {
    "collapsed": false
   }
  },
  {
   "cell_type": "code",
   "execution_count": 8,
   "outputs": [
    {
     "data": {
      "text/plain": "6426000.0"
     },
     "execution_count": 8,
     "metadata": {},
     "output_type": "execute_result"
    }
   ],
   "source": [
    "v1.display_onroad_price()"
   ],
   "metadata": {
    "collapsed": false
   }
  },
  {
   "cell_type": "markdown",
   "source": [
    "- the `display_onroad_price()` makes use of class variable to compute the on road price of the vehicle."
   ],
   "metadata": {
    "collapsed": false
   }
  },
  {
   "cell_type": "code",
   "execution_count": 9,
   "outputs": [
    {
     "name": "stdout",
     "output_type": "stream",
     "text": [
      "{'type': 'Car', 'make': 'Audi', 'model': 'A6', 'power': '242bhp', 'fuel_type': 'Petrol', 'price': 6300000}\n"
     ]
    }
   ],
   "source": [
    "print(v1.__dict__)"
   ],
   "metadata": {
    "collapsed": false
   }
  },
  {
   "cell_type": "markdown",
   "source": [
    "- observe that `insurance_percentage` is not present in the instance attributes"
   ],
   "metadata": {
    "collapsed": false
   }
  },
  {
   "cell_type": "code",
   "execution_count": 10,
   "outputs": [
    {
     "name": "stdout",
     "output_type": "stream",
     "text": [
      "{'__module__': '__main__', 'insurance_percentage': 0.02, '__init__': <function Vehicle.__init__ at 0x104517b80>, 'display_details': <function Vehicle.display_details at 0x1043f3040>, 'display_onroad_price': <function Vehicle.display_onroad_price at 0x1043f3280>, '__dict__': <attribute '__dict__' of 'Vehicle' objects>, '__weakref__': <attribute '__weakref__' of 'Vehicle' objects>, '__doc__': None}\n"
     ]
    }
   ],
   "source": [
    "print(Vehicle.__dict__)"
   ],
   "metadata": {
    "collapsed": false
   }
  },
  {
   "cell_type": "markdown",
   "source": [
    "- now you see the `insurance_percentage` is part of class"
   ],
   "metadata": {
    "collapsed": false
   }
  },
  {
   "cell_type": "code",
   "execution_count": 12,
   "outputs": [
    {
     "name": "stdout",
     "output_type": "stream",
     "text": [
      "6552000.0\n",
      "7488000.0\n"
     ]
    }
   ],
   "source": [
    "Vehicle.insurance_percentage = 0.04\n",
    "\n",
    "print(v1.display_onroad_price())\n",
    "print(v2.display_onroad_price())"
   ],
   "metadata": {
    "collapsed": false
   }
  },
  {
   "cell_type": "markdown",
   "source": [
    "- what just happened in the above code is we change the `insurance_percentage` globally and hence both the Vehicle instances are getting the updated insurance amount"
   ],
   "metadata": {
    "collapsed": false
   }
  },
  {
   "cell_type": "code",
   "execution_count": 13,
   "outputs": [
    {
     "name": "stdout",
     "output_type": "stream",
     "text": [
      "8505000.0\n",
      "7488000.0\n"
     ]
    }
   ],
   "source": [
    "v1.insurance_percentage = 0.35\n",
    "print(v1.display_onroad_price())\n",
    "print(v2.display_onroad_price())"
   ],
   "metadata": {
    "collapsed": false
   }
  },
  {
   "cell_type": "markdown",
   "source": [
    "- notice that only the vehicle instance v1's onroad price got changed but howz this possible `insurance_percentage` is a class levelvariable. in the above case it has created a `insurance_percentage` attribute in the instance of v1 as shown below"
   ],
   "metadata": {
    "collapsed": false
   }
  },
  {
   "cell_type": "code",
   "execution_count": 14,
   "outputs": [
    {
     "name": "stdout",
     "output_type": "stream",
     "text": [
      "{'type': 'Car', 'make': 'Audi', 'model': 'A6', 'power': '242bhp', 'fuel_type': 'Petrol', 'price': 6300000, 'insurance_percentage': 0.35}\n"
     ]
    }
   ],
   "source": [
    "print(v1.__dict__)"
   ],
   "metadata": {
    "collapsed": false
   }
  },
  {
   "cell_type": "code",
   "execution_count": null,
   "outputs": [],
   "source": [],
   "metadata": {
    "collapsed": false
   }
  }
 ],
 "metadata": {
  "kernelspec": {
   "display_name": "Python 3",
   "language": "python",
   "name": "python3"
  },
  "language_info": {
   "codemirror_mode": {
    "name": "ipython",
    "version": 2
   },
   "file_extension": ".py",
   "mimetype": "text/x-python",
   "name": "python",
   "nbconvert_exporter": "python",
   "pygments_lexer": "ipython2",
   "version": "2.7.6"
  }
 },
 "nbformat": 4,
 "nbformat_minor": 0
}
