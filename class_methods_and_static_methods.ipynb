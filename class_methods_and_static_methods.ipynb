{
 "cells": [
  {
   "cell_type": "markdown",
   "source": [
    "# Class Methods & Static Methods"
   ],
   "metadata": {
    "collapsed": false
   }
  },
  {
   "cell_type": "code",
   "execution_count": 1,
   "outputs": [],
   "source": [
    "class Vehicle:\n",
    "\n",
    "    # class variable share across methods\n",
    "    insurance_percentage = 0.02\n",
    "\n",
    "    # this is like a constructor if you are from other languages\n",
    "    # self is like this object or self reference to the class\n",
    "    def __init__(self, type: str, make: str, model: str, power: str, fuel_type: str, price: int):\n",
    "        # Instance Variables\n",
    "        self.type = type\n",
    "        self.make = make\n",
    "        self.model = model\n",
    "        self.power = power\n",
    "        self.fuel_type = fuel_type\n",
    "        self.price = price\n",
    "\n",
    "    # instance method\n",
    "    def display_details(self):\n",
    "        return {'Type': self.type, 'Make': self.make, 'Model':self.model, 'Power': self.power, 'FuelType': self.fuel_type}\n",
    "\n",
    "    # instance method\n",
    "    def display_onroad_price(self):\n",
    "        return self.price + self.price * self.insurance_percentage\n",
    "\n",
    "    # class method decorated with classmethod\n",
    "    @classmethod\n",
    "    def alter_insurance_percentage(cls, percentage):\n",
    "        cls.insurance_percentage = percentage\n"
   ],
   "metadata": {
    "collapsed": false
   }
  },
  {
   "cell_type": "code",
   "execution_count": 2,
   "outputs": [],
   "source": [
    "v1 = Vehicle('Car', 'Audi', 'A6', '242bhp', 'Petrol', 6300000)\n",
    "v2 = Vehicle('Car', 'BMW', 'M6', '560bhp', 'Petrol', 7200000)"
   ],
   "metadata": {
    "collapsed": false
   }
  },
  {
   "cell_type": "code",
   "execution_count": 4,
   "outputs": [
    {
     "name": "stdout",
     "output_type": "stream",
     "text": [
      "6426000.0\n",
      "7344000.0\n"
     ]
    }
   ],
   "source": [
    "print(v1.display_onroad_price())\n",
    "print(v2.display_onroad_price())"
   ],
   "metadata": {
    "collapsed": false
   }
  },
  {
   "cell_type": "code",
   "execution_count": 6,
   "outputs": [
    {
     "name": "stdout",
     "output_type": "stream",
     "text": [
      "6615000.0\n",
      "7560000.0\n"
     ]
    }
   ],
   "source": [
    "Vehicle.alter_insurance_percentage(0.05)\n",
    "print(v1.display_onroad_price())\n",
    "print(v2.display_onroad_price())"
   ],
   "metadata": {
    "collapsed": false
   }
  },
  {
   "cell_type": "markdown",
   "source": [
    "- the `alter_insurance_percentage` altered the insurance  percentage and its reflected to both the instances"
   ],
   "metadata": {
    "collapsed": false
   }
  },
  {
   "cell_type": "markdown",
   "source": [
    "## Use Case: suppose there is a requirement that some one using our class Vehicle has some data that is in the form of string as below\n",
    " - car-BMW-M6-246bhp-Petrol-6300000\n",
    "## Now they want to get this to  be parsed and assigned to each instance property/attribute, this can be done explicitly parsing and assigning to the `__init__` method. but let's create common method and do it, which will demostrate the capability of using the class methods as alternate to constructors"
   ],
   "metadata": {
    "collapsed": false
   }
  },
  {
   "cell_type": "code",
   "execution_count": 7,
   "outputs": [],
   "source": [
    "class Vehicle:\n",
    "\n",
    "    # class variable share across methods\n",
    "    insurance_percentage = 0.02\n",
    "\n",
    "    # this is like a constructor if you are from other languages\n",
    "    # self is like this object or self reference to the class\n",
    "    def __init__(self, type: str, make: str, model: str, power: str, fuel_type: str, price: int):\n",
    "        # Instance Variables\n",
    "        self.type = type\n",
    "        self.make = make\n",
    "        self.model = model\n",
    "        self.power = power\n",
    "        self.fuel_type = fuel_type\n",
    "        self.price = price\n",
    "\n",
    "    # instance method\n",
    "    def display_details(self):\n",
    "        return {'Type': self.type, 'Make': self.make, 'Model':self.model, 'Power': self.power, 'FuelType': self.fuel_type}\n",
    "\n",
    "    # instance method\n",
    "    def display_onroad_price(self):\n",
    "        return self.price + self.price * self.insurance_percentage\n",
    "\n",
    "    # class method decorated with classmethod\n",
    "    @classmethod\n",
    "    def alter_insurance_percentage(cls, percentage):\n",
    "        cls.insurance_percentage = percentage\n",
    "\n",
    "    @classmethod\n",
    "    def from_string2attribute(cls, string_param: str):\n",
    "        type, make, model, power, fuel_type, price = string_param.split(\"-\")\n",
    "        return cls(type,make, model, power, fuel_type,price)"
   ],
   "metadata": {
    "collapsed": false
   }
  },
  {
   "cell_type": "code",
   "execution_count": 8,
   "outputs": [],
   "source": [
    "v1 = Vehicle.from_string2attribute(\"Car-Mercedes-Benz S class- 362bhp-Petrol-17100000\")"
   ],
   "metadata": {
    "collapsed": false
   }
  },
  {
   "cell_type": "code",
   "execution_count": 9,
   "outputs": [
    {
     "data": {
      "text/plain": "{'Type': 'Car',\n 'Make': 'Mercedes',\n 'Model': 'Benz S class',\n 'Power': ' 362bhp',\n 'FuelType': 'Petrol'}"
     },
     "execution_count": 9,
     "metadata": {},
     "output_type": "execute_result"
    }
   ],
   "source": [
    "v1.display_details()"
   ],
   "metadata": {
    "collapsed": false
   }
  },
  {
   "cell_type": "code",
   "execution_count": null,
   "outputs": [],
   "source": [],
   "metadata": {
    "collapsed": false
   }
  }
 ],
 "metadata": {
  "kernelspec": {
   "display_name": "Python 3",
   "language": "python",
   "name": "python3"
  },
  "language_info": {
   "codemirror_mode": {
    "name": "ipython",
    "version": 2
   },
   "file_extension": ".py",
   "mimetype": "text/x-python",
   "name": "python",
   "nbconvert_exporter": "python",
   "pygments_lexer": "ipython2",
   "version": "2.7.6"
  }
 },
 "nbformat": 4,
 "nbformat_minor": 0
}
