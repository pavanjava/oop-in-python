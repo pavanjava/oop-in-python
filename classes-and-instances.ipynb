{
 "cells": [
  {
   "cell_type": "markdown",
   "source": [
    "## Classes and Instances"
   ],
   "metadata": {
    "collapsed": false
   }
  },
  {
   "cell_type": "markdown",
   "source": [
    "### For our use case i take Vehicle and An Empy class is created as below"
   ],
   "metadata": {
    "collapsed": false
   }
  },
  {
   "cell_type": "code",
   "execution_count": 1,
   "outputs": [],
   "source": [
    "class Vehicle:\n",
    "    pass"
   ],
   "metadata": {
    "collapsed": false
   }
  },
  {
   "cell_type": "markdown",
   "source": [
    "- when we say `pass` the python interpreter treat this code not to consider for compilation"
   ],
   "metadata": {
    "collapsed": false
   }
  },
  {
   "cell_type": "code",
   "execution_count": 5,
   "outputs": [
    {
     "name": "stdout",
     "output_type": "stream",
     "text": [
      "<__main__.Vehicle object at 0x105a6f340>\n",
      "<__main__.Vehicle object at 0x105a3a4c0>\n",
      "False\n",
      "True\n"
     ]
    }
   ],
   "source": [
    "v1 = Vehicle()\n",
    "v2 = Vehicle()\n",
    "\n",
    "print(v1)\n",
    "print(v2)\n",
    "\n",
    "print(v1 == v2)\n",
    "print(type(v1) == type(v2))"
   ],
   "metadata": {
    "collapsed": false
   }
  },
  {
   "cell_type": "markdown",
   "source": [
    "- what we did above is we created two seperate instances of Vehicle class and both are unique\n",
    "- we print the instances and see that both are of same type but the memory location is different\n",
    "- we saw how to compare the instances for their equality"
   ],
   "metadata": {
    "collapsed": false
   }
  },
  {
   "cell_type": "code",
   "execution_count": 6,
   "outputs": [
    {
     "name": "stdout",
     "output_type": "stream",
     "text": [
      "Audi A6\n",
      "BMW A6\n"
     ]
    }
   ],
   "source": [
    "v1.type = 'Car'\n",
    "v1.Make = 'Audi'\n",
    "v1.Model = 'A6'\n",
    "v1.power = '242bhp'\n",
    "v1.fuel_type = 'Petrol'\n",
    "\n",
    "v2.type = 'Car'\n",
    "v2.Make = 'BMW'\n",
    "v2.Model = 'M6'\n",
    "v2.power = '560bhp'\n",
    "v2.fuel_type = 'Petrol'\n",
    "\n",
    "print(v1.Make+\" \"+v1.Model)\n",
    "print(v2.Make+\" \"+v1.Model)"
   ],
   "metadata": {
    "collapsed": false
   }
  },
  {
   "cell_type": "markdown",
   "source": [
    "- in the above code we set the Vehicle class properties using the instance variables (seperate values for two instance variables).\n",
    "- this is cumbursome to do if you have large property set.\n",
    "- this is the reason we use the class level properties."
   ],
   "metadata": {
    "collapsed": false
   }
  },
  {
   "cell_type": "code",
   "execution_count": 7,
   "outputs": [],
   "source": [
    "class Vehicle:\n",
    "    # this is like a constructor if you are from other languages\n",
    "    # self is like this object or self reference to the class\n",
    "    def __init__(self, type: str, make: str, model: str, power: str, fuel_type: str):\n",
    "        self.type = type\n",
    "        self.make = make\n",
    "        self.model = model\n",
    "        self.power = power\n",
    "        self.fuel_type = fuel_type\n",
    "\n",
    "v1 = Vehicle('Car', 'Audi', 'A6', '242bhp', 'Petrol')\n",
    "v2 = Vehicle('Car', 'BMW', 'M6', '560bhp', 'Petrol')"
   ],
   "metadata": {
    "collapsed": false
   }
  },
  {
   "cell_type": "code",
   "execution_count": 9,
   "outputs": [
    {
     "name": "stdout",
     "output_type": "stream",
     "text": [
      "Car: Audi A6\n",
      "Car: BMW M6\n"
     ]
    }
   ],
   "source": [
    "print(v1.type + ': '+v1.make+' '+v1.model)\n",
    "print(v2.type + ': '+v2.make+' '+v2.model)"
   ],
   "metadata": {
    "collapsed": false
   }
  },
  {
   "cell_type": "markdown",
   "source": [
    "- follow the comments carefully, we have rewritten the Vehicle class with `__ini__()` method\n",
    "- in the parameters list that we passed to `__ini__()` we did a type binding like `model: str` means in compile time python checks for right data type to be passed in for that parameter.\n",
    "- while creating instances we passed this values so that they will initiate"
   ],
   "metadata": {
    "collapsed": false
   }
  },
  {
   "cell_type": "code",
   "execution_count": null,
   "outputs": [],
   "source": [],
   "metadata": {
    "collapsed": false
   }
  }
 ],
 "metadata": {
  "kernelspec": {
   "display_name": "Python 3",
   "language": "python",
   "name": "python3"
  },
  "language_info": {
   "codemirror_mode": {
    "name": "ipython",
    "version": 2
   },
   "file_extension": ".py",
   "mimetype": "text/x-python",
   "name": "python",
   "nbconvert_exporter": "python",
   "pygments_lexer": "ipython2",
   "version": "2.7.6"
  }
 },
 "nbformat": 4,
 "nbformat_minor": 0
}
